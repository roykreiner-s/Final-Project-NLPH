{
 "cells": [
  {
   "cell_type": "code",
   "execution_count": 1,
   "id": "522dccad",
   "metadata": {},
   "outputs": [],
   "source": [
    "import pandas as pd\n",
    "import numpy as np\n",
    "from pathlib import Path\n",
    "%matplotlib inline\n",
    "import seaborn as sns\n",
    "from sklearn.model_selection import train_test_split\n",
    "from sklearn.feature_extraction.text import CountVectorizer\n",
    "from sklearn.metrics import recall_score\n",
    "from sklearn.feature_extraction.text import TfidfTransformer\n",
    "from sklearn.pipeline import Pipeline\n",
    "from sklearn.naive_bayes import MultinomialNB\n",
    "from sklearn.metrics import plot_confusion_matrix\n"
   ]
  },
  {
   "cell_type": "code",
   "execution_count": 162,
   "id": "8a2b8281",
   "metadata": {
    "scrolled": false
   },
   "outputs": [
    {
     "data": {
      "text/html": [
       "<div>\n",
       "<style scoped>\n",
       "    .dataframe tbody tr th:only-of-type {\n",
       "        vertical-align: middle;\n",
       "    }\n",
       "\n",
       "    .dataframe tbody tr th {\n",
       "        vertical-align: top;\n",
       "    }\n",
       "\n",
       "    .dataframe thead th {\n",
       "        text-align: right;\n",
       "    }\n",
       "</style>\n",
       "<table border=\"1\" class=\"dataframe\">\n",
       "  <thead>\n",
       "    <tr style=\"text-align: right;\">\n",
       "      <th></th>\n",
       "      <th>Sentence</th>\n",
       "      <th>Error</th>\n",
       "    </tr>\n",
       "  </thead>\n",
       "  <tbody>\n",
       "    <tr>\n",
       "      <th>0</th>\n",
       "      <td>שלשים ותשעה מפקדים</td>\n",
       "      <td>1</td>\n",
       "    </tr>\n",
       "    <tr>\n",
       "      <th>1</th>\n",
       "      <td>שלשים ותשע מפקדים</td>\n",
       "      <td>0</td>\n",
       "    </tr>\n",
       "    <tr>\n",
       "      <th>2</th>\n",
       "      <td>שבעים ושניים אגרטלים</td>\n",
       "      <td>1</td>\n",
       "    </tr>\n",
       "    <tr>\n",
       "      <th>3</th>\n",
       "      <td>שבעים ושתים אגרטלים</td>\n",
       "      <td>0</td>\n",
       "    </tr>\n",
       "    <tr>\n",
       "      <th>4</th>\n",
       "      <td>חמישים וחמישה מכוניות</td>\n",
       "      <td>0</td>\n",
       "    </tr>\n",
       "    <tr>\n",
       "      <th>...</th>\n",
       "      <td>...</td>\n",
       "      <td>...</td>\n",
       "    </tr>\n",
       "    <tr>\n",
       "      <th>595</th>\n",
       "      <td>שלשים ושמונה מכנסיים</td>\n",
       "      <td>1</td>\n",
       "    </tr>\n",
       "    <tr>\n",
       "      <th>596</th>\n",
       "      <td>שמונים נדנדות</td>\n",
       "      <td>1</td>\n",
       "    </tr>\n",
       "    <tr>\n",
       "      <th>597</th>\n",
       "      <td>שמונים נדנדות</td>\n",
       "      <td>1</td>\n",
       "    </tr>\n",
       "    <tr>\n",
       "      <th>598</th>\n",
       "      <td>מאה ספסלים</td>\n",
       "      <td>1</td>\n",
       "    </tr>\n",
       "    <tr>\n",
       "      <th>599</th>\n",
       "      <td>מאה ספסלים</td>\n",
       "      <td>1</td>\n",
       "    </tr>\n",
       "  </tbody>\n",
       "</table>\n",
       "<p>600 rows × 2 columns</p>\n",
       "</div>"
      ],
      "text/plain": [
       "                  Sentence  Error\n",
       "0       שלשים ותשעה מפקדים      1\n",
       "1        שלשים ותשע מפקדים      0\n",
       "2     שבעים ושניים אגרטלים      1\n",
       "3      שבעים ושתים אגרטלים      0\n",
       "4    חמישים וחמישה מכוניות      0\n",
       "..                     ...    ...\n",
       "595   שלשים ושמונה מכנסיים      1\n",
       "596          שמונים נדנדות      1\n",
       "597          שמונים נדנדות      1\n",
       "598             מאה ספסלים      1\n",
       "599             מאה ספסלים      1\n",
       "\n",
       "[600 rows x 2 columns]"
      ]
     },
     "execution_count": 162,
     "metadata": {},
     "output_type": "execute_result"
    }
   ],
   "source": [
    "df = pd.read_csv(\"data_synthetic.tsv\", encoding=\"utf-8\", sep=\"\\t\")\n",
    "df"
   ]
  },
  {
   "cell_type": "markdown",
   "id": "ef9ce03e",
   "metadata": {},
   "source": [
    "## Question 2 - Loading TSV"
   ]
  },
  {
   "cell_type": "code",
   "execution_count": 163,
   "id": "16f1f488",
   "metadata": {
    "scrolled": false
   },
   "outputs": [
    {
     "data": {
      "text/html": [
       "<div>\n",
       "<style scoped>\n",
       "    .dataframe tbody tr th:only-of-type {\n",
       "        vertical-align: middle;\n",
       "    }\n",
       "\n",
       "    .dataframe tbody tr th {\n",
       "        vertical-align: top;\n",
       "    }\n",
       "\n",
       "    .dataframe thead th {\n",
       "        text-align: right;\n",
       "    }\n",
       "</style>\n",
       "<table border=\"1\" class=\"dataframe\">\n",
       "  <thead>\n",
       "    <tr style=\"text-align: right;\">\n",
       "      <th></th>\n",
       "      <th>Sentence</th>\n",
       "      <th>Error</th>\n",
       "    </tr>\n",
       "  </thead>\n",
       "  <tbody>\n",
       "    <tr>\n",
       "      <th>0</th>\n",
       "      <td>שלשים ותשעה מפקדים</td>\n",
       "      <td>1</td>\n",
       "    </tr>\n",
       "    <tr>\n",
       "      <th>1</th>\n",
       "      <td>שלשים ותשע מפקדים</td>\n",
       "      <td>0</td>\n",
       "    </tr>\n",
       "    <tr>\n",
       "      <th>2</th>\n",
       "      <td>שבעים ושניים אגרטלים</td>\n",
       "      <td>1</td>\n",
       "    </tr>\n",
       "    <tr>\n",
       "      <th>3</th>\n",
       "      <td>שבעים ושתים אגרטלים</td>\n",
       "      <td>0</td>\n",
       "    </tr>\n",
       "    <tr>\n",
       "      <th>4</th>\n",
       "      <td>חמישים וחמישה מכוניות</td>\n",
       "      <td>0</td>\n",
       "    </tr>\n",
       "    <tr>\n",
       "      <th>...</th>\n",
       "      <td>...</td>\n",
       "      <td>...</td>\n",
       "    </tr>\n",
       "    <tr>\n",
       "      <th>595</th>\n",
       "      <td>שלשים ושמונה מכנסיים</td>\n",
       "      <td>1</td>\n",
       "    </tr>\n",
       "    <tr>\n",
       "      <th>596</th>\n",
       "      <td>שמונים נדנדות</td>\n",
       "      <td>1</td>\n",
       "    </tr>\n",
       "    <tr>\n",
       "      <th>597</th>\n",
       "      <td>שמונים נדנדות</td>\n",
       "      <td>1</td>\n",
       "    </tr>\n",
       "    <tr>\n",
       "      <th>598</th>\n",
       "      <td>מאה ספסלים</td>\n",
       "      <td>1</td>\n",
       "    </tr>\n",
       "    <tr>\n",
       "      <th>599</th>\n",
       "      <td>מאה ספסלים</td>\n",
       "      <td>1</td>\n",
       "    </tr>\n",
       "  </tbody>\n",
       "</table>\n",
       "<p>600 rows × 2 columns</p>\n",
       "</div>"
      ],
      "text/plain": [
       "                  Sentence  Error\n",
       "0       שלשים ותשעה מפקדים      1\n",
       "1        שלשים ותשע מפקדים      0\n",
       "2     שבעים ושניים אגרטלים      1\n",
       "3      שבעים ושתים אגרטלים      0\n",
       "4    חמישים וחמישה מכוניות      0\n",
       "..                     ...    ...\n",
       "595   שלשים ושמונה מכנסיים      1\n",
       "596          שמונים נדנדות      1\n",
       "597          שמונים נדנדות      1\n",
       "598             מאה ספסלים      1\n",
       "599             מאה ספסלים      1\n",
       "\n",
       "[600 rows x 2 columns]"
      ]
     },
     "execution_count": 163,
     "metadata": {},
     "output_type": "execute_result"
    }
   ],
   "source": [
    "df"
   ]
  },
  {
   "cell_type": "markdown",
   "id": "7085e1b4",
   "metadata": {},
   "source": [
    "## Question 4\n"
   ]
  },
  {
   "cell_type": "code",
   "execution_count": 183,
   "id": "bdb70128",
   "metadata": {},
   "outputs": [
    {
     "name": "stdout",
     "output_type": "stream",
     "text": [
      "Number of different attractions\n"
     ]
    },
    {
     "data": {
      "text/plain": [
       "2"
      ]
     },
     "execution_count": 183,
     "metadata": {},
     "output_type": "execute_result"
    }
   ],
   "source": [
    "attractions = df[\"Error\"].value_counts()\n",
    "print(\"Number of different attractions\")\n",
    "len(attractions)"
   ]
  },
  {
   "cell_type": "code",
   "execution_count": 165,
   "id": "82efbd41",
   "metadata": {},
   "outputs": [
    {
     "name": "stdout",
     "output_type": "stream",
     "text": [
      "Censored_Desc average len: \n"
     ]
    },
    {
     "data": {
      "text/plain": [
       "2.7333333333333334"
      ]
     },
     "execution_count": 165,
     "metadata": {},
     "output_type": "execute_result"
    }
   ],
   "source": [
    "avg_words_censored_desc_col = df['Sentence'].apply(lambda x: len(x.split()))\n",
    "print('Censored_Desc average len: ')\n",
    "avg_words_censored_desc_col.mean()"
   ]
  },
  {
   "cell_type": "markdown",
   "id": "7b11022e",
   "metadata": {},
   "source": [
    "## Question 5"
   ]
  },
  {
   "cell_type": "markdown",
   "id": "406452a8",
   "metadata": {},
   "source": [
    "### Split Data"
   ]
  },
  {
   "cell_type": "code",
   "execution_count": 166,
   "id": "bd909358",
   "metadata": {
    "scrolled": true
   },
   "outputs": [],
   "source": [
    "df_no_Error = df.drop(columns=['Error'])\n",
    "\n",
    "X_train, X_test, y_train, y_test = train_test_split(df_no_Error, df['Error'], test_size=0.2, random_state=42)"
   ]
  },
  {
   "cell_type": "code",
   "execution_count": 167,
   "id": "7667ccae",
   "metadata": {},
   "outputs": [],
   "source": [
    "def get_hebrew_stopwords():\n",
    "    stop_path = \"heb_stopwords.txt\"\n",
    "    with open(stop_path, encoding=\"utf-8\") as in_file:\n",
    "        lines = in_file.readlines()\n",
    "        res = [l.strip() for l in lines]\n",
    "    return res\n"
   ]
  },
  {
   "cell_type": "code",
   "execution_count": 168,
   "id": "5210a5cb",
   "metadata": {},
   "outputs": [],
   "source": [
    "heb_stop_words = get_hebrew_stopwords()\n"
   ]
  },
  {
   "cell_type": "code",
   "execution_count": 169,
   "id": "cd32fbae",
   "metadata": {},
   "outputs": [],
   "source": [
    "count_vect = CountVectorizer(ngram_range=(1,2),  stop_words=heb_stop_words)\n",
    "# X_train_counts = count_vect.fit_transform(X_train[\"Censored_Desc\"])\n",
    "tf_transformer=TfidfTransformer()"
   ]
  },
  {
   "cell_type": "markdown",
   "id": "def94ecc",
   "metadata": {},
   "source": [
    "## Question 6"
   ]
  },
  {
   "cell_type": "code",
   "execution_count": 170,
   "id": "eafb38a8",
   "metadata": {},
   "outputs": [],
   "source": [
    "from sklearn.metrics import confusion_matrix,precision_score\n",
    "from sklearn.metrics import recall_score,f1_score,accuracy_score\n",
    "\n",
    "def evaluate(predicted_labels):\n",
    "        prec_mic = precision_score(y_test, \n",
    "                                predicted_labels,\n",
    "                                average=\"micro\")\n",
    "\n",
    "        rec_mic=recall_score(y_test, \n",
    "                                predicted_labels,\n",
    "                                average=\"micro\")\n",
    "\n",
    "        f1_mic=f1_score(y_test, \n",
    "                        predicted_labels,\n",
    "                        average=\"micro\")\n",
    "        print(f\"Micro precision:{prec_mic}, recall:{rec_mic}, f1:{f1_mic}\")\n",
    "        prec_mac=precision_score(y_test, \n",
    "                                predicted_labels,\n",
    "                                average=\"macro\")\n",
    "\n",
    "        rec_mac=recall_score(y_test, \n",
    "                                predicted_labels,\n",
    "                                average=\"macro\")\n",
    "\n",
    "        f1_mac=f1_score(y_test, \n",
    "                        predicted_labels,\n",
    "                        average=\"macro\")\n",
    "        print(f\"Macro precision:{prec_mac}, recall:{rec_mac}, f1:{f1_mac}\")\n",
    "\n",
    "\n",
    "        acc=accuracy_score(y_test, \n",
    "                            predicted_labels)\n",
    "\n",
    "        print(f\"Accuracy: {acc}\")\n",
    "        cm=confusion_matrix(y_test,\n",
    "                            predicted_labels)\n",
    "        print(cm)"
   ]
  },
  {
   "cell_type": "markdown",
   "id": "c1b7c618",
   "metadata": {},
   "source": [
    "### Logistic Regression"
   ]
  },
  {
   "cell_type": "code",
   "execution_count": 171,
   "id": "a0eb19b4",
   "metadata": {
    "scrolled": true
   },
   "outputs": [
    {
     "data": {
      "text/plain": [
       "145             עשר בניינים\n",
       "9        ששים ושבע מסדרונות\n",
       "375      חמישים ואחת תפוחים\n",
       "523         עשרים ושבע עצים\n",
       "188       ששים ושישה גלידות\n",
       "               ...         \n",
       "71        שמונים ואחת ילדות\n",
       "106            ארבעה פארקים\n",
       "270    שלשים ושלושה מכוניות\n",
       "435      שמונים ותשע עריסות\n",
       "102      שלשים ושניים סוסים\n",
       "Name: Sentence, Length: 480, dtype: object"
      ]
     },
     "execution_count": 171,
     "metadata": {},
     "output_type": "execute_result"
    }
   ],
   "source": [
    "X_train['Sentence']"
   ]
  },
  {
   "cell_type": "code",
   "execution_count": 184,
   "id": "8931f5dd",
   "metadata": {
    "scrolled": false
   },
   "outputs": [
    {
     "name": "stdout",
     "output_type": "stream",
     "text": [
      "Micro precision:0.6333333333333333, recall:0.6333333333333333, f1:0.6333333333333333\n",
      "Macro precision:0.5820386510041683, recall:0.5653881002718213, f1:0.5634920634920635\n",
      "Accuracy: 0.6333333333333333\n",
      "[[14 29]\n",
      " [15 62]]\n"
     ]
    },
    {
     "name": "stderr",
     "output_type": "stream",
     "text": [
      "/Users/noamkesten/opt/miniconda3/lib/python3.9/site-packages/sklearn/utils/deprecation.py:87: FutureWarning: Function plot_confusion_matrix is deprecated; Function `plot_confusion_matrix` is deprecated in 1.0 and will be removed in 1.2. Use one of the class methods: ConfusionMatrixDisplay.from_predictions or ConfusionMatrixDisplay.from_estimator.\n",
      "  warnings.warn(msg, category=FutureWarning)\n"
     ]
    },
    {
     "data": {
      "text/plain": [
       "<sklearn.metrics._plot.confusion_matrix.ConfusionMatrixDisplay at 0x7fdf3b87b820>"
      ]
     },
     "execution_count": 184,
     "metadata": {},
     "output_type": "execute_result"
    },
    {
     "data": {
      "image/png": "[encoded data removed]",
      "text/plain": [
       "<Figure size 432x288 with 2 Axes>"
      ]
     },
     "metadata": {
      "needs_background": "light"
     },
     "output_type": "display_data"
    }
   ],
   "source": [
    "from sklearn.linear_model import LogisticRegression\n",
    "algo=LogisticRegression()\n",
    "pipe = Pipeline([('vectorizer', count_vect),\n",
    "                 ('transformer', tf_transformer),\n",
    "                 #('feature_select', SelectKBest(chi2, k=20000)),\n",
    "                 ('algo', algo)])\n",
    "pipe.fit(X_train['Sentence'], y_train)\n",
    "# prredicted only one sentence\n",
    "# predicted = pipe.predict([\"שבע סוסים\"])\n",
    "predicted = pipe.predict(X_test['Sentence'])\n",
    "# show the predicted label\n",
    "# predicted.tolist()[0]\n",
    "evaluate(predicted)\n",
    "plot_confusion_matrix(pipe, X_test['Sentence'], y_test, labels = attractions.keys())"
   ]
  },
  {
   "cell_type": "code",
   "execution_count": 173,
   "id": "f97c4d25",
   "metadata": {},
   "outputs": [],
   "source": [
    "from sklearn.metrics import confusion_matrix, ConfusionMatrixDisplay\n"
   ]
  },
  {
   "cell_type": "code",
   "execution_count": 174,
   "id": "116ffda7",
   "metadata": {},
   "outputs": [
    {
     "data": {
      "text/plain": [
       "<sklearn.metrics._plot.confusion_matrix.ConfusionMatrixDisplay at 0x7fdf39bc2070>"
      ]
     },
     "execution_count": 174,
     "metadata": {},
     "output_type": "execute_result"
    },
    {
     "data": {
      "image/png": "[encoded data removed]",
      "text/plain": [
       "<Figure size 432x288 with 2 Axes>"
      ]
     },
     "metadata": {
      "needs_background": "light"
     },
     "output_type": "display_data"
    }
   ],
   "source": [
    "cm = confusion_matrix(y_test, predicted)\n",
    "disp = ConfusionMatrixDisplay(confusion_matrix=cm)\n",
    "disp.plot()"
   ]
  },
  {
   "cell_type": "markdown",
   "id": "5e1b6098",
   "metadata": {},
   "source": [
    "### Random Forest Classifier"
   ]
  },
  {
   "cell_type": "code",
   "execution_count": 194,
   "id": "91fd758c",
   "metadata": {
    "scrolled": true
   },
   "outputs": [
    {
     "name": "stdout",
     "output_type": "stream",
     "text": [
      "Micro precision:0.675, recall:0.675, f1:0.675\n",
      "Macro precision:0.640625, recall:0.5978556327393536, f1:0.5962384608748167\n",
      "Accuracy: 0.675\n",
      "[[14 29]\n",
      " [10 67]]\n"
     ]
    },
    {
     "name": "stderr",
     "output_type": "stream",
     "text": [
      "/Users/noamkesten/opt/miniconda3/lib/python3.9/site-packages/sklearn/utils/deprecation.py:87: FutureWarning: Function plot_confusion_matrix is deprecated; Function `plot_confusion_matrix` is deprecated in 1.0 and will be removed in 1.2. Use one of the class methods: ConfusionMatrixDisplay.from_predictions or ConfusionMatrixDisplay.from_estimator.\n",
      "  warnings.warn(msg, category=FutureWarning)\n"
     ]
    },
    {
     "data": {
      "text/plain": [
       "<sklearn.metrics._plot.confusion_matrix.ConfusionMatrixDisplay at 0x7fdf36875040>"
      ]
     },
     "execution_count": 194,
     "metadata": {},
     "output_type": "execute_result"
    },
    {
     "data": {
      "image/png": "[encoded data removed]",
      "text/plain": [
       "<Figure size 432x288 with 2 Axes>"
      ]
     },
     "metadata": {
      "needs_background": "light"
     },
     "output_type": "display_data"
    }
   ],
   "source": [
    "from sklearn.ensemble import RandomForestClassifier\n",
    "algo=RandomForestClassifier()\n",
    "pipe = Pipeline([('vectorizer', count_vect),\n",
    "                 ('transformer', tf_transformer),\n",
    "                 #('feature_select', SelectKBest(chi2, k=20000)),\n",
    "                 ('algo', algo)])\n",
    "pipe.fit(X_train['Sentence'], y_train)\n",
    "predicted = pipe.predict(X_test['Sentence'])\n",
    "# prredicted only one sentence\n",
    "# predicted = pipe.predict([\"שבע סוסים\"])\n",
    "# show the predicted label\n",
    "evaluate(predicted)\n",
    "# predicted.tolist()[0]\n",
    "# evaluate(predicted)\n",
    "plot_confusion_matrix(pipe, X_test['Sentence'], y_test, labels = attractions.keys())\n",
    "# clf_random_forest = RandomForestClassifier().fit(X_train_tf, y_train)"
   ]
  },
  {
   "cell_type": "markdown",
   "id": "f9aeef75",
   "metadata": {},
   "source": [
    "### # Random classifier - Just for fun :)"
   ]
  },
  {
   "cell_type": "code",
   "execution_count": 176,
   "id": "6b4f4ca9",
   "metadata": {
    "scrolled": true
   },
   "outputs": [
    {
     "data": {
      "text/plain": [
       "array([1, 0])"
      ]
     },
     "execution_count": 176,
     "metadata": {},
     "output_type": "execute_result"
    }
   ],
   "source": [
    "kind_unique_values = df[\"Error\"].unique()\n",
    "kind_unique_values"
   ]
  },
  {
   "cell_type": "code",
   "execution_count": 177,
   "id": "e9d25144",
   "metadata": {},
   "outputs": [],
   "source": [
    "import random\n",
    "\n",
    "def get_random_value():\n",
    "    cur_val=np.random.rand()\n",
    "    return random.choice(kind_unique_values)"
   ]
  },
  {
   "cell_type": "code",
   "execution_count": 178,
   "id": "78bcb7b4",
   "metadata": {},
   "outputs": [
    {
     "name": "stdout",
     "output_type": "stream",
     "text": [
      "Micro precision:0.55, recall:0.55, f1:0.55\n",
      "Macro precision:0.5294117647058824, recall:0.5312594382361824, f1:0.5278344505974935\n",
      "Accuracy: 0.55\n",
      "[[20 23]\n",
      " [31 46]]\n"
     ]
    }
   ],
   "source": [
    "random_predicted=[get_random_value() for _ in range(len(X_test))]\n",
    "y_pred = pd.DataFrame(random_predicted)\n",
    "\n",
    "evaluate(y_pred)\n",
    "plot_confusion_matrix(pipe, X_test['Sentence'], y_test, labels = attractions.keys())\n"
   ]
  },
  {
   "cell_type": "code",
   "execution_count": 192,
   "id": "ad5ae4b0",
   "metadata": {},
   "outputs": [],
   "source": [
    "def plot_classification_report(cr, title='Classification report ', with_avg_total=False, cmap=plt.cm.Blues):\n",
    "\n",
    "    lines = cr.split('\\n')\n",
    "\n",
    "    classes = []\n",
    "    plotMat = []\n",
    "    for line in lines[2 : (len(lines) - 3)]:\n",
    "        #print(line)\n",
    "        t = line.split()\n",
    "        # print(t)\n",
    "        classes.append(t[0])\n",
    "        v = [float(x) for x in t[1: len(t) - 1]]\n",
    "        print(v)\n",
    "        plotMat.append(v)\n",
    "\n",
    "    if with_avg_total:\n",
    "        aveTotal = lines[len(lines) - 1].split()\n",
    "        classes.append('avg/total')\n",
    "        vAveTotal = [float(x) for x in t[1:len(aveTotal) - 1]]\n",
    "        plotMat.append(vAveTotal)\n",
    "\n",
    "\n",
    "    plt.imshow(plotMat, interpolation='nearest', cmap=cmap)\n",
    "    plt.title(title)\n",
    "    plt.colorbar()\n",
    "    x_tick_marks = np.arange(3)\n",
    "    y_tick_marks = np.arange(len(classes))\n",
    "    plt.xticks(x_tick_marks, ['precision', 'recall', 'f1-score'], rotation=45)\n",
    "    plt.yticks(y_tick_marks, classes)\n",
    "    plt.tight_layout()\n",
    "    plt.ylabel('Models')\n",
    "    plt.xlabel('Measures')"
   ]
  },
  {
   "cell_type": "code",
   "execution_count": 193,
   "id": "01b1380b",
   "metadata": {},
   "outputs": [
    {
     "name": "stdout",
     "output_type": "stream",
     "text": [
      "[0.58, 0.57, 0.56]\n",
      "[0.67, 0.62, 0.61]\n",
      "[0.54, 0.55, 0.54]\n"
     ]
    },
    {
     "data": {
      "image/png": "[encoded data removed]",
      "text/plain": [
       "<Figure size 432x288 with 2 Axes>"
      ]
     },
     "metadata": {
      "needs_background": "light"
     },
     "output_type": "display_data"
    }
   ],
   "source": [
    "sampleClassificationReport = \"\"\"             precision    recall  f1-score   support\n",
    "\n",
    "          Logistic       0.58      0.57      0.56        1\n",
    "          Random-Forest       0.67      0.62      0.61      1\n",
    "          Random       0.54      0.55      0.54        1\n",
    "\n",
    "\n",
    "avg / total       0.6      0.6      0.58       858\"\"\"\n",
    "\n",
    "\n",
    "plot_classification_report(sampleClassificationReport)"
   ]
  },
  {
   "cell_type": "code",
   "execution_count": null,
   "id": "d280d224",
   "metadata": {},
   "outputs": [],
   "source": []
  }
 ],
 "metadata": {
  "kernelspec": {
   "display_name": "Python 3 (ipykernel)",
   "language": "python",
   "name": "python3"
  },
  "language_info": {
   "codemirror_mode": {
    "name": "ipython",
    "version": 3
   },
   "file_extension": ".py",
   "mimetype": "text/x-python",
   "name": "python",
   "nbconvert_exporter": "python",
   "pygments_lexer": "ipython3",
   "version": "3.9.7"
  },
  "vscode": {
   "interpreter": {
    "hash": "82ed002fa2d4956f5c6aec99bcefe0f73a9f79882f3c9e2319b14958a5896ac5"
   }
  }
 },
 "nbformat": 4,
 "nbformat_minor": 5
}
